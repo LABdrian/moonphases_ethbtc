{
 "cells": [
  {
   "cell_type": "code",
   "execution_count": 2,
   "id": "7feeda0f-55bb-4f47-9409-5bf580d33cf2",
   "metadata": {},
   "outputs": [
    {
     "data": {
      "text/plain": [
       "12.711222222222222"
      ]
     },
     "execution_count": 2,
     "metadata": {},
     "output_type": "execute_result"
    }
   ],
   "source": [
    "import datetime\n",
    "from astral import moon\n",
    "phase = moon.phase(datetime.date(1994, 12, 16))\n",
    "phase\n"
   ]
  },
  {
   "cell_type": "code",
   "execution_count": 3,
   "id": "a20244d9-3f65-4151-a3ff-4b77aaae2eaf",
   "metadata": {},
   "outputs": [],
   "source": [
    "def imprimir_fase(phase):\n",
    "    if phase >=0 and phase <7:\n",
    "        return \"🌑 new moon\"\n",
    "    elif phase >= 7 and phase <14 :\n",
    "        return \"🌓 first quarter\"\n",
    "    elif phase >=14 and phase <21:\n",
    "        return \"🌕 full moon\"\n",
    "    elif phase >=21 and phase <28 :\n",
    "        return \"🌗 last quarter\"\n",
    "    else:\n",
    "        return \"Fase lunar desconocida.\""
   ]
  },
  {
   "cell_type": "code",
   "execution_count": 4,
   "id": "954eb80f-0ac3-44cb-918e-a496c69c8dd1",
   "metadata": {},
   "outputs": [
    {
     "name": "stdout",
     "output_type": "stream",
     "text": [
      "🌓 first quarter\n"
     ]
    }
   ],
   "source": [
    "fase_lunar = imprimir_fase(phase)\n",
    "print(fase_lunar)"
   ]
  }
 ],
 "metadata": {
  "kernelspec": {
   "display_name": "Python 3 (ipykernel)",
   "language": "python",
   "name": "python3"
  },
  "language_info": {
   "codemirror_mode": {
    "name": "ipython",
    "version": 3
   },
   "file_extension": ".py",
   "mimetype": "text/x-python",
   "name": "python",
   "nbconvert_exporter": "python",
   "pygments_lexer": "ipython3",
   "version": "3.11.0"
  },
  "vscode": {
   "interpreter": {
    "hash": "1f564eadb31fd96b12c8ba80d6ddd75b3251822c958898aac99c393461c7e050"
   }
  }
 },
 "nbformat": 4,
 "nbformat_minor": 5
}
