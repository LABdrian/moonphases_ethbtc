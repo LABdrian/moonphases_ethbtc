{
 "cells": [
  {
   "cell_type": "code",
   "execution_count": null,
   "id": "807ced03-3a96-4060-950a-5e9b217520b5",
   "metadata": {},
   "outputs": [],
   "source": [
    "import pandas as pd\n",
    "import numpy as np\n",
    "from tvDatafeed import TvDatafeed,Interval\n",
    "import datetime \n",
    "from astral.moon import phase \n",
    "\n"
   ]
  },
  {
   "cell_type": "markdown",
   "id": "bae7c747-a998-4f55-9c1c-9df6077b4494",
   "metadata": {},
   "source": [
    "# Extrayendo data de tradingview con tvdatafeed"
   ]
  },
  {
   "cell_type": "code",
   "execution_count": null,
   "id": "e7699ad8-a46b-44c6-9364-34e279cc3e6d",
   "metadata": {},
   "outputs": [],
   "source": [
    "username = 'labradoradrian770'\n",
    "password = 'eva210920'"
   ]
  },
  {
   "cell_type": "code",
   "execution_count": null,
   "id": "6c65f006-d702-4872-bbdf-6579dd64cb6a",
   "metadata": {},
   "outputs": [],
   "source": [
    "tv = TvDatafeed(username=username,password=password)"
   ]
  },
  {
   "cell_type": "code",
   "execution_count": null,
   "id": "106df780-a8d3-43a9-96fd-4f18b6332a14",
   "metadata": {},
   "outputs": [],
   "source": [
    "df_ethbtc=tv.get_hist('ETHBTC','BINANCE', Interval.in_daily,n_bars=5000)"
   ]
  },
  {
   "cell_type": "code",
   "execution_count": null,
   "id": "65b9b4b5-fc34-42ff-bfea-de4ca6c84f72",
   "metadata": {},
   "outputs": [],
   "source": [
    "df_ethbtc.info()"
   ]
  },
  {
   "cell_type": "code",
   "execution_count": null,
   "id": "5436184d-8c12-4eb8-86f1-c6e3a4d95729",
   "metadata": {},
   "outputs": [],
   "source": [
    "df_ethbtc "
   ]
  },
  {
   "cell_type": "code",
   "execution_count": null,
   "id": "d60df9d9-c28c-4cb7-a4af-72c3760a21c9",
   "metadata": {
    "tags": []
   },
   "outputs": [],
   "source": [
    "data= df_ethbtc\n",
    "data['datetime']= data.index\n",
    "\n",
    "\n",
    "data"
   ]
  },
  {
   "cell_type": "markdown",
   "id": "a15fb6d1-4918-458d-818a-766d15d8a0a2",
   "metadata": {},
   "source": [
    "# cambiando el Datetimeindex por un index numerico incremental"
   ]
  },
  {
   "cell_type": "code",
   "execution_count": null,
   "id": "2244b5bd",
   "metadata": {},
   "outputs": [],
   "source": [
    "data['datetime'] = pd.to_datetime(data['datetime'], format = \"%Y-%m-%d\")\n",
    "data['datetime'].info()"
   ]
  },
  {
   "cell_type": "code",
   "execution_count": null,
   "id": "5ecd085c",
   "metadata": {},
   "outputs": [],
   "source": [
    "data = data.reset_index(drop=True)\n",
    "data\n",
    "\n"
   ]
  },
  {
   "cell_type": "code",
   "execution_count": null,
   "id": "bd84e53b",
   "metadata": {},
   "outputs": [],
   "source": [
    "data= data.drop(columns='symbol',axis=1)\n",
    "data"
   ]
  },
  {
   "cell_type": "code",
   "execution_count": null,
   "id": "dfb465e5",
   "metadata": {},
   "outputs": [],
   "source": [
    "data['datetime'] = data['datetime'].dt.date\n"
   ]
  },
  {
   "cell_type": "code",
   "execution_count": null,
   "id": "c524f593",
   "metadata": {},
   "outputs": [],
   "source": [
    "data"
   ]
  },
  {
   "cell_type": "code",
   "execution_count": null,
   "id": "8c7f0329",
   "metadata": {},
   "outputs": [],
   "source": [
    "data.info()"
   ]
  },
  {
   "cell_type": "code",
   "execution_count": null,
   "id": "15efa325",
   "metadata": {},
   "outputs": [],
   "source": [
    "data['datetime']=pd.to_datetime(data['datetime'])\n",
    "data['datetime'].info()"
   ]
  },
  {
   "cell_type": "code",
   "execution_count": null,
   "id": "de41b162-32b8-4be0-8c76-3ee73a1fc148",
   "metadata": {},
   "outputs": [],
   "source": [
    "data['moon_phase']=''\n",
    "data"
   ]
  },
  {
   "cell_type": "markdown",
   "id": "d00f2d93-371c-4504-a24a-c7756b4be7d9",
   "metadata": {},
   "source": [
    "# Ciclo de moon_phase de cada fecha contenida en el df"
   ]
  },
  {
   "cell_type": "code",
   "execution_count": null,
   "id": "83081b39-b646-49a3-8f60-32cdfea0fd7e",
   "metadata": {},
   "outputs": [],
   "source": [
    "for index, row in data.iterrows():\n",
    "    date = row[\"datetime\"]\n",
    "    phase_moon = phase(date)\n",
    "    data.at[index, \"moon_phase\"] = phase_moon\n",
    "\n",
    "data"
   ]
  },
  {
   "cell_type": "markdown",
   "id": "1834fd16-a510-4711-865e-c06ca2900ac4",
   "metadata": {},
   "source": [
    "# Creando name_phase column \n"
   ]
  },
  {
   "cell_type": "code",
   "execution_count": null,
   "id": "4596f100-0e2f-438f-95aa-3cbce38f44a2",
   "metadata": {},
   "outputs": [],
   "source": [
    "def imprimir_fase(phase):\n",
    "    if phase >=0 and phase <7:\n",
    "        return \"🌑 new moon\"\n",
    "    elif phase >= 7 and phase <14 :\n",
    "        return \"🌓 first quarter\"\n",
    "    elif phase >=14 and phase <21:\n",
    "        return \"🌕 full moon\"\n",
    "    elif phase >=21 and phase <28 :\n",
    "        return \"🌗 last quarter\"\n",
    "    else:\n",
    "        return \"Fase lunar desconocida.\"\n",
    "    \n",
    "    \n",
    "data[\"name_phase\"] = \"\"\n",
    "\n",
    "for index, row in data.iterrows():\n",
    "    phase = row[\"moon_phase\"]\n",
    "    name_phase = imprimir_fase(phase)\n",
    "    data.at[index, \"name_phase\"] = name_phase\n",
    "    \n",
    "data"
   ]
  },
  {
   "cell_type": "markdown",
   "id": "90a2fba1-5bcf-4ec0-93d3-0c6d55f0514e",
   "metadata": {},
   "source": [
    "# Creando change column para observar cambios de tendencia y porcentaje de cambio entre los precios de cierre"
   ]
  },
  {
   "cell_type": "code",
   "execution_count": null,
   "id": "4e294301-4ff2-44b7-83a1-d7808379299e",
   "metadata": {},
   "outputs": [],
   "source": [
    "data.insert(data.columns.get_loc('close')+1, 'change',  data['close'].pct_change().round(2))"
   ]
  },
  {
   "cell_type": "code",
   "execution_count": null,
   "id": "af317654-8dc1-4260-89c0-a02c7f0743e8",
   "metadata": {},
   "outputs": [],
   "source": [
    "data"
   ]
  },
  {
   "cell_type": "code",
   "execution_count": null,
   "id": "77267cf5-7781-4829-b59b-882a570f8c10",
   "metadata": {},
   "outputs": [],
   "source": [
    "data.columns"
   ]
  },
  {
   "cell_type": "markdown",
   "id": "85a2a65d-7c4d-42ac-8efe-f851a7485414",
   "metadata": {},
   "source": [
    "# funtion simple para volatility_index"
   ]
  },
  {
   "cell_type": "code",
   "execution_count": null,
   "id": "dd440a76-be00-4f93-8c7f-f9f35efe8c0b",
   "metadata": {},
   "outputs": [],
   "source": [
    "def volatilidad_index(row):\n",
    "    return (row['high'] - row['low']) / (row['close'] - row['open'])\n",
    "\n",
    "data['volatility_index'] = data.apply(volatilidad_index, axis=1)\n",
    "data['volatility_index'] = (data['volatility_index'] - data['volatility_index'].min()) / (data['volatility_index'].max() - data['volatility_index'].min()) * 2 - 1\n",
    "data['volatility_index'] = data['volatility_index'].round(2)\n",
    "data\n"
   ]
  },
  {
   "cell_type": "markdown",
   "id": "92050d9f-0865-4097-ab78-afcb902584b9",
   "metadata": {
    "slideshow": {
     "slide_type": "slide"
    },
    "tags": []
   },
   "source": [
    "# Valores con de volatilidad mas comunes "
   ]
  },
  {
   "cell_type": "code",
   "execution_count": null,
   "id": "42c99cdd-0049-4a01-abf3-c8fcce89ac80",
   "metadata": {},
   "outputs": [],
   "source": [
    "data['volatility_index'] = data['volatility_index'].astype(float)\n",
    "grupo_vola = data['volatility_index'].groupby(data['volatility_index']).count()\n",
    "grupo_vola"
   ]
  },
  {
   "cell_type": "markdown",
   "id": "30ffa60d-3bd8-48ce-b36b-b9bc50bf4a2f",
   "metadata": {},
   "source": [
    "# Aplicando describe veo que aun falta transformar los datos de las columns moon_phase y volume\n"
   ]
  },
  {
   "cell_type": "code",
   "execution_count": null,
   "id": "4de56980-df07-4c08-a708-61a7b859ebac",
   "metadata": {},
   "outputs": [],
   "source": [
    "data.describe()"
   ]
  },
  {
   "cell_type": "code",
   "execution_count": null,
   "id": "5705fe68-3a72-4727-984b-9c906f7350e6",
   "metadata": {
    "tags": []
   },
   "outputs": [],
   "source": [
    "data"
   ]
  },
  {
   "cell_type": "code",
   "execution_count": null,
   "id": "a506060e-edc1-43b3-a42a-2035faf35c0c",
   "metadata": {
    "tags": []
   },
   "outputs": [],
   "source": [
    "data[['volume','moon_phase']].info()"
   ]
  },
  {
   "cell_type": "code",
   "execution_count": null,
   "id": "0121a7ca-2f1c-49ce-9e45-51b6bd76b850",
   "metadata": {
    "tags": []
   },
   "outputs": [],
   "source": [
    "data['moon_phase'] = data['moon_phase'].astype('float')"
   ]
  },
  {
   "cell_type": "code",
   "execution_count": null,
   "id": "8003552c-0019-492d-aee9-57b8feb09eee",
   "metadata": {
    "tags": []
   },
   "outputs": [],
   "source": [
    "data=data.round(8)"
   ]
  },
  {
   "cell_type": "code",
   "execution_count": null,
   "id": "92186177-1355-4d18-98e9-2d8e17c06867",
   "metadata": {
    "tags": []
   },
   "outputs": [],
   "source": [
    "data.describe()"
   ]
  },
  {
   "cell_type": "markdown",
   "id": "c6a1bd78-2bef-4313-9cac-87d157be5d77",
   "metadata": {},
   "source": [
    "# uso de set_option para agregar decimales a los datos y asi evitar outputs en scientific notation"
   ]
  },
  {
   "cell_type": "code",
   "execution_count": null,
   "id": "d324dee6-ebee-4ca8-97bb-1232a17508f7",
   "metadata": {
    "tags": []
   },
   "outputs": [],
   "source": [
    "pd.set_option('display.float_format', lambda x: '%.6f' % x)"
   ]
  },
  {
   "cell_type": "code",
   "execution_count": null,
   "id": "8dc7a037-c31b-40bd-8880-1952abe5e748",
   "metadata": {
    "tags": []
   },
   "outputs": [],
   "source": [
    "data"
   ]
  },
  {
   "cell_type": "code",
   "execution_count": null,
   "id": "788ac610-ce8b-48cf-81fa-83be80f12aaa",
   "metadata": {
    "tags": []
   },
   "outputs": [],
   "source": [
    "data.describe()"
   ]
  },
  {
   "cell_type": "code",
   "execution_count": null,
   "id": "8ea81158-8ea6-48c2-ac26-f3fdeb78dbfe",
   "metadata": {
    "tags": []
   },
   "outputs": [],
   "source": [
    "data"
   ]
  },
  {
   "cell_type": "code",
   "execution_count": null,
   "id": "53108b29-5f34-42c8-a061-3affd1d201a9",
   "metadata": {
    "tags": []
   },
   "outputs": [],
   "source": [
    "data[['change']].head(21)"
   ]
  },
  {
   "cell_type": "markdown",
   "id": "8b629166-5f21-401d-988a-a4112c09cd73",
   "metadata": {
    "tags": []
   },
   "source": [
    "# Funcion para indentificar tendencias,retrocesos y cambios utilizando retrocesos fibonacci"
   ]
  },
  {
   "cell_type": "code",
   "execution_count": null,
   "id": "23b7a504-9dba-41ee-9b29-1dfe70cf2e99",
   "metadata": {
    "tags": []
   },
   "outputs": [],
   "source": [
    "change_values = data['change'].tolist()"
   ]
  },
  {
   "cell_type": "code",
   "execution_count": null,
   "id": "8f134a0f-ce77-480e-99a1-675d9c2d35a7",
   "metadata": {
    "tags": []
   },
   "outputs": [],
   "source": [
    "def trend_identifier(change_values, fibonacci_levels=[0.382, 0.5, 0.618, 0.786, 1]):\n",
    "    current_trend = None\n",
    "    trend_start = 0\n",
    "    trends = []\n",
    "    for i, change_value in enumerate(change_values[1:]):\n",
    "        if current_trend is None:\n",
    "            current_trend = change_value\n",
    "            trend_start = i + 1\n",
    "        elif (current_trend > 0 and change_value < 0) or (current_trend < 0 and change_value > 0):\n",
    "            if abs(change_value) > abs(current_trend) * fibonacci_levels[0]:\n",
    "                for fibonacci_level in fibonacci_levels[1:]:\n",
    "                    if abs(change_value) > abs(current_trend) * fibonacci_level:\n",
    "                        current_trend = change_value\n",
    "                        trend_start = i + 1\n",
    "                        break\n",
    "                else:\n",
    "                    trends.append((trend_start, i + 1, current_trend))\n",
    "                    current_trend = None\n",
    "            else:\n",
    "                trends.append((trend_start, i + 1, current_trend))\n",
    "                current_trend = None\n",
    "        else:\n",
    "            current_trend += change_value\n",
    "    if current_trend is not None:\n",
    "        trends.append((trend_start, len(change_values), current_trend))\n",
    "    return trends\n",
    "\n"
   ]
  },
  {
   "cell_type": "code",
   "execution_count": null,
   "id": "be298e5c-86b4-4713-b4ba-3183eb57ac9c",
   "metadata": {
    "tags": []
   },
   "outputs": [],
   "source": [
    "trends = trend_identifier(change_values)"
   ]
  },
  {
   "cell_type": "code",
   "execution_count": null,
   "id": "5cf08827-ba30-4661-bd96-25912c57f54f",
   "metadata": {
    "tags": []
   },
   "outputs": [],
   "source": [
    "trends"
   ]
  },
  {
   "cell_type": "markdown",
   "id": "418ea3d0-deca-4adf-98b9-80e5f54175d0",
   "metadata": {},
   "source": [
    "# crear dataframe con los resultados de iterar a la columna change con la funcion trend_identifier"
   ]
  },
  {
   "cell_type": "code",
   "execution_count": null,
   "id": "ad9d3a17-72e2-4613-a471-655a463236b9",
   "metadata": {
    "tags": []
   },
   "outputs": [],
   "source": [
    "result = trend_identifier(change_values)"
   ]
  },
  {
   "cell_type": "code",
   "execution_count": null,
   "id": "93a2cf18-0b79-4c0d-9a4e-e3555640dbf6",
   "metadata": {
    "tags": []
   },
   "outputs": [],
   "source": [
    "df_trends= pd.DataFrame(result, columns=['start', 'end', 'trend'])"
   ]
  },
  {
   "cell_type": "code",
   "execution_count": null,
   "id": "49a9ac3c-2d83-4d94-a91d-b3c0b9776aff",
   "metadata": {
    "tags": []
   },
   "outputs": [],
   "source": [
    "df_trends"
   ]
  },
  {
   "cell_type": "markdown",
   "id": "a8e2ce94-4435-4e1b-b921-f0916db776ea",
   "metadata": {},
   "source": [
    "# para observar cuanto duran las tendencias y cual es el promedio de duracion "
   ]
  },
  {
   "cell_type": "code",
   "execution_count": null,
   "id": "fc91c687-7e27-4c79-ae39-060f3b16d3f7",
   "metadata": {
    "tags": []
   },
   "outputs": [],
   "source": [
    "duration_trend = df_trends['end'] - df_trends['start']\n",
    "average_duration = duration_values.mean()\n"
   ]
  },
  {
   "cell_type": "code",
   "execution_count": null,
   "id": "65477c7b-f926-4219-8f87-16f936b241e4",
   "metadata": {
    "tags": []
   },
   "outputs": [],
   "source": [
    "average_duration"
   ]
  },
  {
   "cell_type": "code",
   "execution_count": null,
   "id": "6d59c577-54b0-4910-a25d-ec268aad5590",
   "metadata": {
    "tags": []
   },
   "outputs": [],
   "source": [
    "df_trends['duration_trend']= duration_trend"
   ]
  },
  {
   "cell_type": "code",
   "execution_count": null,
   "id": "6f764319-89ae-49e5-9ef7-f78b7177e4a6",
   "metadata": {
    "tags": []
   },
   "outputs": [],
   "source": [
    "df_trends"
   ]
  },
  {
   "cell_type": "markdown",
   "id": "8dfd8f3d-affb-43aa-99de-ee9f9185d2cb",
   "metadata": {},
   "source": [
    "# add moon_phase a al dataframe de tendencias"
   ]
  },
  {
   "cell_type": "code",
   "execution_count": null,
   "id": "4e58c41b-015c-4a47-9f28-adbd6089afe3",
   "metadata": {
    "tags": []
   },
   "outputs": [],
   "source": [
    "df_trends[\"moon_phase\"] = ''\n",
    "\n",
    "for i, row in df_trends.iterrows():\n",
    "    start, end = row[\"start\"], row[\"end\"]\n",
    "    moon_phase_slice = data.iloc[start:end][\"moon_phase\"]\n",
    "    df_trends.at[i, \"moon_phase\"] = moon_phase_slice.mean()"
   ]
  },
  {
   "cell_type": "code",
   "execution_count": null,
   "id": "c12d60cb-c0e7-4c08-8311-93f9c929eedb",
   "metadata": {
    "tags": []
   },
   "outputs": [],
   "source": [
    "df_trends"
   ]
  },
  {
   "cell_type": "code",
   "execution_count": null,
   "id": "6f1fe2cb-4a79-420c-a511-1b051ecf67ce",
   "metadata": {},
   "outputs": [],
   "source": []
  }
 ],
 "metadata": {
  "kernelspec": {
   "display_name": "Python 3 (ipykernel)",
   "language": "python",
   "name": "python3"
  },
  "language_info": {
   "codemirror_mode": {
    "name": "ipython",
    "version": 3
   },
   "file_extension": ".py",
   "mimetype": "text/x-python",
   "name": "python",
   "nbconvert_exporter": "python",
   "pygments_lexer": "ipython3",
   "version": "3.11.0"
  },
  "toc-autonumbering": true,
  "toc-showcode": true,
  "toc-showmarkdowntxt": true,
  "toc-showtags": false,
  "vscode": {
   "interpreter": {
    "hash": "1f564eadb31fd96b12c8ba80d6ddd75b3251822c958898aac99c393461c7e050"
   }
  }
 },
 "nbformat": 4,
 "nbformat_minor": 5
}
